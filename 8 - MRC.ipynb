{
 "cells": [
  {
   "attachments": {},
   "cell_type": "markdown",
   "metadata": {},
   "source": [
    "# 机器阅读理解\n",
    "机器阅读理解(Machine Reading Comprehension, MRC): 让机器根据给定的文本，回答与文本内容相关的问题，一次衡量机器理解自然语言的能力。\n",
    "\n",
    "- 按文章数量分：\n",
    "\t- Single Document Reading Comprehenension, SDRC\n",
    "\t- Multi-Document Reading Comprehenension, MDRC\n",
    "- 按文章领域分：\n",
    "\t- 特定域\n",
    "\t- 开放域\n",
    "- 按语言种类分：\n",
    "\t- 单语言\n",
    "\t- 跨语言\n",
    "- 按问题形式分：\n",
    "\t- 完形填空\n",
    "\t- 自由提问\n",
    "- 按答案形式分：\n",
    "\t- 答案在文章中\n",
    "\t\t- 有候选答案\n",
    "\t\t\t- 单项选择\n",
    "\t\t\t- 多项选择\n",
    "\t\t- 无候选答案\n",
    "\t\t\t- 片段抽取\n",
    "\t\t\t- 推理加工\n",
    "\t- 答案不在文章中\n",
    "\n",
    "模型评测：\n",
    "- 准确度\n",
    "- F1分数\n",
    "\t- 准确率和召回率的调和平均数\n",
    "\t- 2 x (precision x recall)/(precision + recall)\n",
    "- ROUGE(Recall-Oriented Understudy for Gisting Evaluation)\n",
    "\n",
    "自然语言处理相关研究方向：\n",
    "- 信息检索(information retrieval) - 在海量文档中寻找与用户查询相关的结果\n",
    "- 问答系统(question and answering system) - 区别于信息检索，问答系统要理解复杂问题的语义，并支持多轮对话。\n",
    "- 文本分类(text classification) - 对文章、段落、语句进行分类\n",
    "\t- 把文档按内容主题划分\n",
    "\t- 对问题进行分类：\n",
    "\t\t- 关于时间的问题\n",
    "\t\t- 关于地点的问题\n",
    "- 机器翻译\n",
    "- 文本摘要(text summarization) "
   ]
  },
  {
   "cell_type": "code",
   "execution_count": null,
   "metadata": {},
   "outputs": [],
   "source": []
  }
 ],
 "metadata": {
  "language_info": {
   "name": "python"
  },
  "orig_nbformat": 4
 },
 "nbformat": 4,
 "nbformat_minor": 2
}
