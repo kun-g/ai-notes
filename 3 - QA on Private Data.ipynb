{
 "cells": [
  {
   "cell_type": "markdown",
   "id": "a2d75183",
   "metadata": {},
   "source": [
    "# 基于私有数据的QA系统\n",
    "\n",
    "步骤：\n",
    "1. 处理数据，分成合适的大小片段\n",
    "2. 为每个片段创建Embedding\n",
    "3. 把embedding存储到向量数据库，供后续查询使用\n",
    "4. 获取用户输入\n",
    "5. 从数据库中查询与用户输入相似度比较高的片段\n",
    "6. 把以上片段作为参考数据注入到Prompt里，提交给LLM\n",
    "7. 把结果返回给用户\n",
    "\n",
    "## 处理数据，建立向量数据库\n",
    "- https://github.com/pgvector/pgvector - Postgres的插件\n",
    "- FAISS\n",
    "- Pinecorn\n",
    "- Chroma\n",
    "\n",
    "### 处理数据"
   ]
  },
  {
   "cell_type": "code",
   "execution_count": 2,
   "id": "f4048be8",
   "metadata": {},
   "outputs": [
    {
     "name": "stdout",
     "output_type": "stream",
     "text": [
      "[PosixPath('dataset/dev-guide/payment.md'), PosixPath('dataset/dev-guide/workflow.md'), PosixPath('dataset/dev-guide/version.md'), PosixPath('dataset/dev-guide/swagger.md'), PosixPath('dataset/dev-guide/branch.md'), PosixPath('dataset/dev-guide/commit.md'), PosixPath('dataset/dev-guide/_index.md')]\n"
     ]
    }
   ],
   "source": [
    "# 加载md文件\n",
    "from pathlib import Path\n",
    "\n",
    "ps = list(Path(\"dataset/dev-guide\").glob(\"**/*.md\"))\n",
    "data = []\n",
    "sources = []\n",
    "for p in ps:\n",
    "    with open(p) as f:\n",
    "        data.append(f.read())\n",
    "    sources.append(p)\n",
    "print(sources)"
   ]
  },
  {
   "cell_type": "code",
   "execution_count": 4,
   "id": "c48f9f45",
   "metadata": {},
   "outputs": [
    {
     "name": "stdout",
     "output_type": "stream",
     "text": [
      "Docs: 8, 总Token: 3906, 花费 $0.006103125\n"
     ]
    }
   ],
   "source": [
    "from langchain.text_splitter import CharacterTextSplitter\n",
    "\n",
    "# 把文档拆成小块，方便LLMs使用\n",
    "text_splitter = CharacterTextSplitter(chunk_size=1500, separator=\"\\n\")\n",
    "docs = []\n",
    "metadatas = []\n",
    "for i, d in enumerate(data):\n",
    "    splits = text_splitter.split_text(d)\n",
    "    docs.extend(splits)\n",
    "    metadatas.extend([{\"source\": sources[i]}] * len(splits))\n",
    "\n",
    "import tiktoken\n",
    "token_encoder = tiktoken.encoding_for_model('gpt-3.5-turbo')\n",
    "sizes = [len(token_encoder.encode(t)) for t in docs]\n",
    "# $0.0016 / 1K tokens\n",
    "PRIZE = 0.0016/1024\n",
    "print(f\"Docs: {len(docs)}, 总Token: {sum(sizes)}, 花费 ${sum(sizes)*PRIZE}\")"
   ]
  },
  {
   "attachments": {},
   "cell_type": "markdown",
   "id": "7840b9ba",
   "metadata": {},
   "source": [
    "### 建立数据库"
   ]
  },
  {
   "cell_type": "code",
   "execution_count": 8,
   "id": "63991eb1",
   "metadata": {},
   "outputs": [],
   "source": [
    "import faiss\n",
    "from langchain.vectorstores import FAISS\n",
    "from langchain.embeddings import OpenAIEmbeddings\n",
    "import pickle\n",
    "\n",
    "# 创建一个本地的向量数据库（文件）\n",
    "store = FAISS.from_texts(docs, OpenAIEmbeddings(), metadatas=metadatas)\n",
    "faiss.write_index(store.index, \"dataset/docs.index\")\n",
    "store.index = None\n",
    "with open(\"dataset/faiss_store.pkl\", \"wb\") as f:\n",
    "    pickle.dump(store, f)"
   ]
  },
  {
   "attachments": {},
   "cell_type": "markdown",
   "id": "500c5436",
   "metadata": {},
   "source": [
    "### 使用数据库查询"
   ]
  },
  {
   "cell_type": "code",
   "execution_count": 15,
   "id": "490e380f",
   "metadata": {},
   "outputs": [],
   "source": [
    "import faiss\n",
    "# from langchain import OpenAI\n",
    "# from langchain.chains import VectorDBQAWithSourcesChain\n",
    "from langchain.chains import RetrievalQAWithSourcesChain\n",
    "import pickle\n",
    "from langchain.chat_models import PromptLayerChatOpenAI\n",
    "\n",
    "chat = PromptLayerChatOpenAI(pl_tags=[\"note-qa-withsourcechain\"], temperature=0, verbose=True)\n",
    "\n",
    "index = faiss.read_index(\"dataset/docs.index\")\n",
    "\n",
    "with open(\"dataset/faiss_store.pkl\", \"rb\") as f:\n",
    "    store = pickle.load(f)\n",
    "\n",
    "store.index = index\n",
    "# chain = VectorDBQAWithSourcesChain.from_llm(llm=chat, vectorstore=store)\n",
    "chain = RetrievalQAWithSourcesChain.from_llm(llm=chat, retriever=store.as_retriever())"
   ]
  },
  {
   "attachments": {},
   "cell_type": "markdown",
   "id": "739cd06a",
   "metadata": {},
   "source": [
    "#### 问题一"
   ]
  },
  {
   "cell_type": "code",
   "execution_count": 17,
   "id": "e8cf2b26",
   "metadata": {},
   "outputs": [
    {
     "name": "stdout",
     "output_type": "stream",
     "text": [
      "Answer: 开发流程有五个阶段，分别是需求阶段、设计阶段、开发阶段、验收阶段和发布阶段。\n",
      "\n",
      "Sources: dataset/dev-guide/workflow.md\n"
     ]
    }
   ],
   "source": [
    "question = \"开发流程有哪些阶段？\"\n",
    "result = chain({\"question\": question})\n",
    "print(f\"Answer: {result['answer']}\")\n",
    "print(f\"Sources: {result['sources']}\")"
   ]
  },
  {
   "attachments": {},
   "cell_type": "markdown",
   "id": "4bb65bd2",
   "metadata": {},
   "source": [
    "#### 问题二"
   ]
  },
  {
   "cell_type": "code",
   "execution_count": 16,
   "id": "22a0691a",
   "metadata": {},
   "outputs": [
    {
     "name": "stdout",
     "output_type": "stream",
     "text": [
      "Answer: 开发流程有五个阶段，分别是需求阶段、设计阶段、开发阶段、验收阶段和发布阶段。每个阶段的产出如下：\n",
      "- 需求阶段：产品文档、交互设计和测试用例。\n",
      "- 设计阶段：多语言表、UI设计稿、测试用例、API文档、技术文档和研发排期表。\n",
      "- 开发阶段：程序、自测报告和部署文档。\n",
      "- 验收阶段：测试报告、版本(CI自动生成)和验收环境。\n",
      "- 发布阶段：版本报告、正式环境和更新申请。\n",
      "- 运营阶段：运维报告。\n",
      "\n",
      "Sources: dataset/dev-guide/workflow.md, dataset/dev-guide/payment.md, dataset/dev-guide/_index.md, dataset/dev-guide/branch.md\n"
     ]
    }
   ],
   "source": [
    "question = \"开发流程有哪些阶段？每个阶段的产出是什么？请使用中文回答。\"\n",
    "result = chain({\"question\": question})\n",
    "print(f\"Answer: {result['answer']}\")\n",
    "print(f\"Sources: {result['sources']}\")"
   ]
  },
  {
   "attachments": {},
   "cell_type": "markdown",
   "id": "dacf4b1e",
   "metadata": {},
   "source": [
    "#### 问题三"
   ]
  },
  {
   "cell_type": "code",
   "execution_count": 19,
   "id": "c364155d",
   "metadata": {},
   "outputs": [
    {
     "name": "stdout",
     "output_type": "stream",
     "text": [
      "Answer: 开发流程有五个阶段：需求阶段、设计阶段、开发阶段、验收阶段和发布阶段。每个阶段的产出如下：\n",
      "- 需求阶段：产品文档、交互设计、测试用例\n",
      "- 设计阶段：多语言表、UI设计稿、测试用例、API文档、技术文档、研发排期表\n",
      "- 开发阶段：程序、自测报告、部署文档\n",
      "- 验收阶段：测试报告、版本(CI自动生成)、验收环境\n",
      "- 发布阶段：版本报告、正式环境、更新申请\n",
      "- 运营阶段：运维报告\n",
      "\n",
      "Sources: dataset/dev-guide/workflow.md\n"
     ]
    }
   ],
   "source": [
    "question = \"开发流程有哪些阶段？每个阶段的产出是什么？\"\n",
    "result = chain({\"question\": question})\n",
    "print(f\"Answer: {result['answer']}\")\n",
    "print(f\"Sources: {result['sources']}\")"
   ]
  },
  {
   "attachments": {},
   "cell_type": "markdown",
   "id": "c709351f",
   "metadata": {},
   "source": [
    "#### 问题四"
   ]
  },
  {
   "cell_type": "code",
   "execution_count": 18,
   "id": "0d79e19e",
   "metadata": {},
   "outputs": [
    {
     "name": "stdout",
     "output_type": "stream",
     "text": [
      "Answer: - 需求阶段的产出是产品文档、交互设计、测试用例。\n",
      "- 设计阶段的产出是多语言表、UI设计稿、测试用例、API文档、技术文档、研发排期表。\n",
      "- 开发阶段的产出是程序、自测报告、部署文档、生成测试版本。\n",
      "- 验收阶段的产出是测试报告、版本(CI自动生成)、验收环境。\n",
      "- 发布阶段的产出是版本报告、正式环境、更新申请。\n",
      "- 运营阶段的产出是运维报告。\n",
      "\n",
      "Sources: dataset/dev-guide/workflow.md, dataset/dev-guide/branch.md\n"
     ]
    }
   ],
   "source": [
    "question = \"开发流程每个阶段的产出是什么？\"\n",
    "result = chain({\"question\": question})\n",
    "print(f\"Answer: {result['answer']}\")\n",
    "print(f\"Sources: {result['sources']}\")"
   ]
  },
  {
   "attachments": {},
   "cell_type": "markdown",
   "id": "db2e9d4c",
   "metadata": {},
   "source": [
    "#### 总结\n",
    "在PromptLayer中查看记录，可以了解langchain的工作逻辑：\n",
    "1. 在向量数据库中查询相关文档\n",
    "2. 对于每个文档，让LLM总结出和问题相关的部分\n",
    "3. 汇总2处理的结果，输出最终结果\n",
    "\n",
    "根据例子二和例子三，也会发现问题越发散，解决起来越麻烦，只是加了句和问题无关的内容，多查了三个文档。\n",
    "\n",
    "如何精准、简洁的提问，会变得越来越重要。"
   ]
  },
  {
   "cell_type": "markdown",
   "id": "c839b8fb",
   "metadata": {},
   "source": [
    "## 参考资料\n",
    "\n",
    "- ClippyGPT - How I Built Supabase’s OpenAI Doc Search (Embeddings) - https://www.youtube.com/watch?v=Yhtjd7yGGGA\n",
    "- https://github.com/hwchase17/notion-qa"
   ]
  }
 ],
 "metadata": {
  "kernelspec": {
   "display_name": "Python 3 (ipykernel)",
   "language": "python",
   "name": "python3"
  },
  "language_info": {
   "codemirror_mode": {
    "name": "ipython",
    "version": 3
   },
   "file_extension": ".py",
   "mimetype": "text/x-python",
   "name": "python",
   "nbconvert_exporter": "python",
   "pygments_lexer": "ipython3",
   "version": "3.8.9"
  }
 },
 "nbformat": 4,
 "nbformat_minor": 5
}
