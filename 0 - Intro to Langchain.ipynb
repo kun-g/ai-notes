{
 "cells": [
  {
   "attachments": {},
   "cell_type": "markdown",
   "metadata": {},
   "source": [
    "# Langchain是什么\n",
    "Langchain可以被看成一个AI应用的开发框架，它把AI应用中会用到的组件分成以下几类：\n",
    "- 模型 Models\n",
    "- 提示词 Prompts\n",
    "- 索引 Indexes\n",
    "- Memory\n",
    "- Chains \n",
    "- Agents\n",
    "\n",
    "Langchain的价值在于，它提供了一层抽象，使得应用开发中的逻辑层和实现层可以解耦，比如模型部分可以使用GPT-3.5、GPT-4.0、GLM平滑替换。这层抽象也使扩展程序变得更简单，可以很轻松的引入新的功能。"
   ]
  },
  {
   "attachments": {},
   "cell_type": "markdown",
   "metadata": {},
   "source": [
    "## 模型 Models\n",
    "目前Langchain支持三种模型：\n",
    "- LLMs(Large Language Models)：接受文本输入，返回文本作为输出\n",
    "- Chat Models: 本质上还是LLMs，只是输入输出是有一定结构的聊天信息\n",
    "- Text Embedding Models: 接受文本输入，返回浮点数列表作为输出"
   ]
  },
  {
   "attachments": {},
   "cell_type": "markdown",
   "metadata": {},
   "source": [
    "## 提示词 Prompts"
   ]
  },
  {
   "attachments": {},
   "cell_type": "markdown",
   "metadata": {},
   "source": [
    "## 索引 Indexes"
   ]
  },
  {
   "attachments": {},
   "cell_type": "markdown",
   "metadata": {},
   "source": [
    "## Memory"
   ]
  },
  {
   "attachments": {},
   "cell_type": "markdown",
   "metadata": {},
   "source": [
    "## Chains"
   ]
  },
  {
   "attachments": {},
   "cell_type": "markdown",
   "metadata": {},
   "source": [
    "## Agents"
   ]
  }
 ],
 "metadata": {
  "language_info": {
   "name": "python"
  },
  "orig_nbformat": 4
 },
 "nbformat": 4,
 "nbformat_minor": 2
}
