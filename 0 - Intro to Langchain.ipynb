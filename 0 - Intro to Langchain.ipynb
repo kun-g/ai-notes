{
 "cells": [
  {
   "cell_type": "markdown",
   "metadata": {},
   "source": [
    "# Langchain是什么\n",
    "Langchain可以被看成一个AI应用的开发框架，它把AI应用中会用到的组件分成以下几类：\n",
    "- 模型 Models\n",
    "- 提示词 Prompts\n",
    "- 索引 Indexes\n",
    "- Memory\n",
    "- Chains \n",
    "- Agents\n",
    "\n",
    "Langchain的价值在于，它提供了一层抽象，使得应用开发中的逻辑层和实现层可以解耦，比如模型部分可以使用GPT-3.5、GPT-4.0、GLM平滑替换。这层抽象也使扩展程序变得更简单，可以很轻松的引入新的功能。"
   ]
  },
  {
   "cell_type": "markdown",
   "metadata": {},
   "source": [
    "## 模型 Models\n",
    "目前Langchain支持三种模型：\n",
    "- LLMs(Large Language Models)：接受文本输入，返回文本作为输出\n",
    "- Chat Models: 本质上还是LLMs，只是输入输出是有一定结构的聊天信息\n",
    "- Text Embedding Models: 接受文本输入，返回浮点数列表作为输出"
   ]
  },
  {
   "cell_type": "markdown",
   "metadata": {},
   "source": [
    "## 提示词 Prompts"
   ]
  },
  {
   "cell_type": "markdown",
   "metadata": {},
   "source": [
    "## 索引 Indexes"
   ]
  },
  {
   "cell_type": "markdown",
   "metadata": {},
   "source": [
    "## Memory"
   ]
  },
  {
   "cell_type": "markdown",
   "metadata": {},
   "source": [
    "## Chains"
   ]
  },
  {
   "cell_type": "markdown",
   "metadata": {},
   "source": [
    "## Agents"
   ]
  },
  {
   "cell_type": "code",
   "execution_count": 1,
   "metadata": {},
   "outputs": [],
   "source": [
    "from langchain.agents.agent_toolkits import create_python_agent\n",
    "from langchain.tools.python.tool import PythonREPLTool\n",
    "from langchain.python import PythonREPL\n",
    "from langchain.llms.openai import OpenAI\n",
    "from langchain.chat_models import PromptLayerChatOpenAI"
   ]
  },
  {
   "cell_type": "code",
   "execution_count": 2,
   "metadata": {},
   "outputs": [],
   "source": [
    "chat = PromptLayerChatOpenAI(pl_tags=[\"agent-executor\"], temperature=0, verbose=True)\n",
    "agent_executor = create_python_agent(\n",
    "    llm=chat,\n",
    "    tool=PythonREPLTool(),\n",
    "    verbose=True\n",
    ")"
   ]
  },
  {
   "cell_type": "code",
   "execution_count": 3,
   "metadata": {},
   "outputs": [
    {
     "name": "stdout",
     "output_type": "stream",
     "text": [
      "\n",
      "\n",
      "\u001b[1m> Entering new AgentExecutor chain...\u001b[0m\n",
      "\u001b[32;1m\u001b[1;3mI can use the quadratic formula to find the roots of the function.\n",
      "Action: Python REPL\n",
      "Action Input: \n",
      "```\n",
      "import math\n",
      "a = 3\n",
      "b = 2\n",
      "c = -1\n",
      "root1 = (-b + math.sqrt(b**2 - 4*a*c)) / (2*a)\n",
      "root2 = (-b - math.sqrt(b**2 - 4*a*c)) / (2*a)\n",
      "print(root1, root2)\n",
      "```\u001b[0m\n",
      "Observation: \u001b[36;1m\u001b[1;3m0.3333333333333333 -1.0\n",
      "\u001b[0m\n",
      "Thought:\u001b[32;1m\u001b[1;3mThe roots of the quadratic function are 0.3333333333333333 and -1.0\n",
      "Final Answer: 0.3333333333333333, -1.0\u001b[0m\n",
      "\n",
      "\u001b[1m> Finished chain.\u001b[0m\n"
     ]
    },
    {
     "data": {
      "text/plain": [
       "'0.3333333333333333, -1.0'"
      ]
     },
     "execution_count": 3,
     "metadata": {},
     "output_type": "execute_result"
    }
   ],
   "source": [
    "agent_executor.run(\"Find the roots (zeroes) if the quadratic function 3 * x**2 + 2*x -1\")"
   ]
  }
 ],
 "metadata": {
  "kernelspec": {
   "display_name": "Python 3 (ipykernel)",
   "language": "python",
   "name": "python3"
  },
  "language_info": {
   "codemirror_mode": {
    "name": "ipython",
    "version": 3
   },
   "file_extension": ".py",
   "mimetype": "text/x-python",
   "name": "python",
   "nbconvert_exporter": "python",
   "pygments_lexer": "ipython3",
   "version": "3.8.9"
  }
 },
 "nbformat": 4,
 "nbformat_minor": 2
}
